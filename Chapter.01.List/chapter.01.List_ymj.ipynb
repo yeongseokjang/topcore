{
 "cells": [
  {
   "cell_type": "markdown",
   "metadata": {},
   "source": [
    "## 1. 링크드 리스트\n",
    "* 리스트 내의 각 요소는 노드(Node) 라 함.\n",
    "* '노드를 연결해서 만든 리스트'"
   ]
  },
  {
   "cell_type": "markdown",
   "metadata": {},
   "source": [
    "### 주요 연산\n",
    "* 노드 생성/소멸\n",
    "* 노드 추가\n",
    "* 노드 탐색\n",
    "* 노드 삭제\n",
    "* 노드 삽입\n",
    "* 노드 개수 세기"
   ]
  },
  {
   "cell_type": "markdown",
   "metadata": {},
   "source": [
    "### 장점\n",
    "* 새로운 노드의 추가/삽입/삭제가 쉽고 빠름. ( 상대적으로 배열은 요소 삽입, 제거가 어려움. )\n",
    "* 현재 노드의 다음 노드를 얻어오는 연산에 대해서는 비용이 발생하지 않음."
   ]
  },
  {
   "cell_type": "markdown",
   "metadata": {},
   "source": [
    "### 단점\n",
    "* 각 노드마다 추가적으로 메모리가 필요함.\n",
    "* 특정 위치의 노드를 얻는데 드는 비용이 크며, 속도가 느림."
   ]
  },
  {
   "cell_type": "code",
   "execution_count": 40,
   "metadata": {
    "collapsed": false
   },
   "outputs": [
    {
     "ename": "IndentationError",
     "evalue": "expected an indented block (<ipython-input-40-ca8ebf68af34>, line 43)",
     "output_type": "error",
     "traceback": [
      "\u001b[1;36m  File \u001b[1;32m\"<ipython-input-40-ca8ebf68af34>\"\u001b[1;36m, line \u001b[1;32m43\u001b[0m\n\u001b[1;33m    def count():\u001b[0m\n\u001b[1;37m      ^\u001b[0m\n\u001b[1;31mIndentationError\u001b[0m\u001b[1;31m:\u001b[0m expected an indented block\n"
     ]
    }
   ],
   "source": [
    "#!usr/bin/python\n",
    "\n",
    "class Node:\n",
    "    def __init__(self, data, next=None):\n",
    "        self.data = data\n",
    "        self.next = next\n",
    "        \n",
    "def create():\n",
    "    global linkedList\n",
    "    linkedList = Node(1)\n",
    "    node1 = Node(2)\n",
    "    node2 = Node(3)\n",
    "    node3 = Node(4)\n",
    "    linkedList.next = node1\n",
    "    node1.next = node2\n",
    "    node2.next = node3\n",
    "\n",
    "def insert(data):\n",
    "    global node0\n",
    "    new_node = Node(data)\n",
    "    new_node.next = node0\n",
    "    node0 = new_node\n",
    "\n",
    "def delete(data):\n",
    "    global node0\n",
    "    before_node = node0\n",
    "    next_node = before_node.next\n",
    "    \n",
    "    if before_node.data == data:\n",
    "        node0 = next_node\n",
    "        del before_node\n",
    "        return\n",
    "    \n",
    "    while next_node:\n",
    "        if next_node.data == data:\n",
    "            before_node.next = next_node.next\n",
    "            del next_node\n",
    "            break\n",
    "        before_node = next_node\n",
    "        next_node = next_node.next\n",
    "def serach(data):\n",
    "\n",
    "def count():\n",
    "    global linkedList\n",
    "    \n",
    "    next_node = linkedList.next\n",
    "    while next_node:\n",
    "        if\n",
    "def Main():\n",
    "    create()\n",
    "    insert(5)\n",
    "    insert(6)\n",
    "    delete(2)\n",
    "    #global node0\n",
    "    print_node = node0\n",
    "    while print_node:\n",
    "        print print_node.data,\n",
    "        print_node = print_node.next\n",
    "    print\n",
    "    \n",
    "Main()"
   ]
  },
  {
   "cell_type": "markdown",
   "metadata": {},
   "source": [
    "## 2. 더블 링크드 리스트\n",
    "* 링크드 리스트이 탐색 기능을 개선한 자료구조 (양방향 검색 가능)"
   ]
  },
  {
   "cell_type": "markdown",
   "metadata": {},
   "source": [
    "### 주요 연산\n",
    "* 노드 생성/소멸\n",
    "* 노드 추가\n",
    "* 노드 탐색\n",
    "* 노드 삭제\n",
    "* 노드 삽입\n",
    "* 노드 개수 세기"
   ]
  },
  {
   "cell_type": "code",
   "execution_count": 38,
   "metadata": {
    "collapsed": false
   },
   "outputs": [
    {
     "name": "stdout",
     "output_type": "stream",
     "text": [
      "1\n"
     ]
    }
   ],
   "source": [
    "#!usr/bin/python\n",
    "\n",
    "class Node:\n",
    "    def __init__(self, data, prev=None, next=None):\n",
    "        self.data = data\n",
    "        self.prev = prev\n",
    "        self.next = next\n",
    "\n",
    "def create():\n",
    "    global doubleList\n",
    "    doubleList = Node(1)\n",
    "    node1 = Node(2)\n",
    "    node2 = Node(3)\n",
    "    node3 = Node(4)\n",
    "\n",
    "    doubleList.next = node1.prev \n",
    "    node1.next = node2.prev\n",
    "    node2.next = node3.prev\n",
    "    \n",
    "def Main():\n",
    "    create()\n",
    "    \n",
    "   # global node1\n",
    "    print_node = doubleList\n",
    "    while print_node:\n",
    "        print print_node.data,\n",
    "        print_node = print_node.next\n",
    "    print\n",
    "    \n",
    "Main()"
   ]
  },
  {
   "cell_type": "markdown",
   "metadata": {},
   "source": [
    "## 3. 환형 링크드 리스트\n",
    "* 테일이 헤드를 가리키고 있는 형태의 리스트\n",
    "* 시작을 알면 끝을 알고, 끝을 알면 시작을 알 수 있음."
   ]
  },
  {
   "cell_type": "markdown",
   "metadata": {},
   "source": [
    "### 주요 연산\n",
    "* 노드 추가\n",
    "* 노드 삭제"
   ]
  },
  {
   "cell_type": "code",
   "execution_count": 37,
   "metadata": {
    "collapsed": true
   },
   "outputs": [],
   "source": [
    "#!usr/bin/python\n",
    "\n",
    "class Node:\n",
    "    def __init__(self, data, prev=None, next=None):\n",
    "        self.data = data\n",
    "        self.prev = prev\n",
    "        self.next = next\n",
    "                       \n",
    "def create():\n",
    "    global circularList\n",
    "    circularList = Node(1)\n",
    "    node1 = Node(2)\n",
    "    node2 = Node(3)\n",
    "    node3 = Node(4)\n",
    "\n",
    "    circularList.next = node1.prev \n",
    "    node1.next = node2.prev\n",
    "    node2.next = node3.prev\n",
    "    node3.next = circularList.prev\n",
    "    \n",
    "def Main():\n",
    "    create()\n",
    "    \n",
    "Main()"
   ]
  },
  {
   "cell_type": "markdown",
   "metadata": {},
   "source": [
    "## 이것만은 알고 갑시다."
   ]
  },
  {
   "cell_type": "markdown",
   "metadata": {},
   "source": [
    "#### 1. 링크드 리스트와 배열의 성능을 다음 세 가지 연산에 관해 비교하여 설명하세요.\n",
    "* 삽입\n",
    "* 삭제\n",
    "* 탐색"
   ]
  },
  {
   "cell_type": "code",
   "execution_count": null,
   "metadata": {
    "collapsed": true
   },
   "outputs": [],
   "source": []
  },
  {
   "cell_type": "markdown",
   "metadata": {},
   "source": [
    "#### 2. 링크드 리스트나 더블 링크드 리스트에서 환형 링크드 리스트에서처럼 바로 테일 노드의 위치를 찾을 수 있는 방법 설명하시오."
   ]
  },
  {
   "cell_type": "code",
   "execution_count": null,
   "metadata": {
    "collapsed": true
   },
   "outputs": [],
   "source": []
  },
  {
   "cell_type": "markdown",
   "metadata": {},
   "source": [
    "#### 3. 1장에서 구현한 리스트 예제 프로그램들은 노드 개수를 알아내는 방법이 비효율적임. 노드의 수가 N개라면 N개의 루프를 수행해야 비로소 N을 알 수 있음. 노드의 수를 즉시 알아낼 수 있는 방법은 없을까? 다음 사항을 중심으로 개선 방법을 생각해보고 설명하시오.\n",
    "* 리스트 구조체의 변경\n",
    "* 삽입/삭제 연산의 변경"
   ]
  },
  {
   "cell_type": "code",
   "execution_count": null,
   "metadata": {
    "collapsed": true
   },
   "outputs": [],
   "source": []
  }
 ],
 "metadata": {
  "kernelspec": {
   "display_name": "Python 2",
   "language": "python",
   "name": "python2"
  },
  "language_info": {
   "codemirror_mode": {
    "name": "ipython",
    "version": 2
   },
   "file_extension": ".py",
   "mimetype": "text/x-python",
   "name": "python",
   "nbconvert_exporter": "python",
   "pygments_lexer": "ipython2",
   "version": "2.7.11"
  }
 },
 "nbformat": 4,
 "nbformat_minor": 0
}
