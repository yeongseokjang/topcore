{
 "cells": [
  {
   "cell_type": "markdown",
   "metadata": {
    "collapsed": true
   },
   "source": [
    "# 링크드 리스트\n",
    "\n",
    "## 기본 개념\n",
    "\n",
    "* 리스트 내의 각 요소를 노드라고 함\n",
    "* 노드는 데이터를 저장하는 변수와 다음 노드와 연결을 저장하는 변수로 구성됨\n",
    "* 리스트의 첫 번째 노드를 헤드\n",
    "* 리스트의 마지막 노드를 테일\n",
    "\n",
    "## 주요 연산\n",
    "\n",
    "* 노드 생성\n",
    "* 노드 소멸\n",
    "* 노드 추가\n",
    "* 노드 탐색\n",
    "* 노드 삭제\n",
    "* 노드 삽입"
   ]
  },
  {
   "cell_type": "markdown",
   "metadata": {
    "collapsed": true
   },
   "source": [
    "## 기본 데이터 구조"
   ]
  },
  {
   "cell_type": "code",
   "execution_count": 1,
   "metadata": {
    "collapsed": false
   },
   "outputs": [
    {
     "name": "stdout",
     "output_type": "stream",
     "text": [
      "10\n"
     ]
    }
   ],
   "source": [
    "class Node:\n",
    "    def __init__(self):\n",
    "        self.data = 0\n",
    "        self.next_node = None\n",
    "    \n",
    "    def __str__(self):\n",
    "        return str(self.data)\n",
    "    \n",
    "# test\n",
    "test_node = Node()\n",
    "test_node.data = 10\n",
    "\n",
    "print(test_node)"
   ]
  },
  {
   "cell_type": "markdown",
   "metadata": {},
   "source": [
    "## 노드 생성\n"
   ]
  },
  {
   "cell_type": "code",
   "execution_count": null,
   "metadata": {
    "collapsed": true
   },
   "outputs": [],
   "source": [
    "test_node = Node()"
   ]
  },
  {
   "cell_type": "markdown",
   "metadata": {},
   "source": [
    "노드를 객체로 구성하고 있기 때문에 별도의 생성 함수 구현하지 않음"
   ]
  },
  {
   "cell_type": "markdown",
   "metadata": {},
   "source": [
    "## 노드 추가"
   ]
  },
  {
   "cell_type": "code",
   "execution_count": 2,
   "metadata": {
    "collapsed": false
   },
   "outputs": [
    {
     "name": "stdout",
     "output_type": "stream",
     "text": [
      "1\n",
      "2\n",
      "3\n"
     ]
    }
   ],
   "source": [
    "def add_node(head, data):\n",
    "    if head.next_node is None:\n",
    "        new_node = Node()\n",
    "        new_node.data = data\n",
    "        new_node.next_node = None\n",
    "        head.next_node = new_node\n",
    "        return\n",
    "\n",
    "    current = head\n",
    "    while current.next_node is not None:\n",
    "        current = current.next_node\n",
    "\n",
    "    new_node = Node()\n",
    "    new_node.data = data\n",
    "    new_node.next_node = None\n",
    "    current.next_node = new_node\n",
    "\n",
    "# test\n",
    "\n",
    "\n",
    "def print_list(head):\n",
    "    current = head\n",
    "    while current.next_node is not None:\n",
    "        print(current.next_node)\n",
    "        current = current.next_node\n",
    "\n",
    "head = Node()\n",
    "\n",
    "add_node(head, 1)\n",
    "add_node(head, 2)\n",
    "add_node(head, 3)\n",
    "\n",
    "print_list(head)"
   ]
  }
 ],
 "metadata": {
  "kernelspec": {
   "display_name": "Python 2",
   "language": "python",
   "name": "python2"
  },
  "language_info": {
   "codemirror_mode": {
    "name": "ipython",
    "version": 2
   },
   "file_extension": ".py",
   "mimetype": "text/x-python",
   "name": "python",
   "nbconvert_exporter": "python",
   "pygments_lexer": "ipython2",
   "version": "2.7.10"
  }
 },
 "nbformat": 4,
 "nbformat_minor": 0
}
