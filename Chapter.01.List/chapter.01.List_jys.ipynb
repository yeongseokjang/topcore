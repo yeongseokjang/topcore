{
 "cells": [
  {
   "cell_type": "markdown",
   "metadata": {
    "collapsed": true
   },
   "source": [
    "# 1. 링크드리스트\n",
    "---\n",
    "## 1.1 개요\n",
    "- 배열은 그 크기를 미리 알고 있을 경우 유용하나 동적으로 크기 변경이 여러움\n",
    "- 리스트 내의 각 요소는 **노드**라고 부름\n",
    "- **노드**를 연결해서 만드는 리스트\n",
    "- **노드**와 다음 노드와의 연결 고리 역할을 하는 **포인터**로 이루어짐\n",
    "- 첫 번째 노드를 **헤드**라고 하고 마지막 노드를 **테일**이라 부름\n",
    "\n",
    "## 1.2 주요연산\n",
    "- 노드 생성/소멸\n",
    "- 노드 추가\n",
    "- 노드 탐색\n",
    "- 노드 삭제\n",
    "- 노드 삽입"
   ]
  },
  {
   "cell_type": "markdown",
   "metadata": {},
   "source": [
    "## 1.3 구현"
   ]
  },
  {
   "cell_type": "code",
   "execution_count": 37,
   "metadata": {
    "collapsed": false
   },
   "outputs": [
    {
     "name": "stdout",
     "output_type": "stream",
     "text": [
      "create node : 1\n",
      "append node : 2\n",
      "append node : 3\n",
      "index 1 node: 2\n"
     ]
    }
   ],
   "source": [
    "# Node 클래스\n",
    "class Node:\n",
    "    def __init__(self):\n",
    "        data = 0\n",
    "        nextnode = None\n",
    "    \n",
    "    def __str__(self):\n",
    "        return str(self.data)\n",
    "    \n",
    "# Node 생성\n",
    "def createNode(data):\n",
    "    if not isinstance(data, int):\n",
    "        return 'data is only IntType'\n",
    "    node = Node()\n",
    "    node.data = data\n",
    "    node.nextnode = None\n",
    "    return node\n",
    "\n",
    "# Node 소멸\n",
    "def destroyNode(head):\n",
    "    head = None;\n",
    "\n",
    "# Node 추가\n",
    "def appendNode(head, data):\n",
    "    if not isinstance(data, int):\n",
    "        return 'data is only IntType'\n",
    "    if head is not None and not isinstance(head, Node):\n",
    "        return 'head is only NodeType'\n",
    "    if head is None:\n",
    "        head = createNode(data)\n",
    "    else:\n",
    "        tail = head\n",
    "        while(tail.nextnode is not None):\n",
    "            tail = tail.nextnode\n",
    "        node = Node()\n",
    "        node.data = data\n",
    "        node.nextnode = None\n",
    "        tail.nextnode = node\n",
    "\n",
    "# Node 탐색\n",
    "def getNodeAt(head, location):\n",
    "    if head is not None and not isinstance(head, Node):\n",
    "        return 'head is only NodeType'\n",
    "    current = head\n",
    "    while(current is not None and location > 0):\n",
    "        current = current.nextnode\n",
    "        location -= 1\n",
    "    return current\n",
    "\n",
    "# Node 삭제\n",
    "def removeNode(head, remove):\n",
    "    if head is not None and not isinstance(head, Node):\n",
    "        return 'head is only NodeType'\n",
    "    pass\n",
    "\n",
    "# test 목록\n",
    "# 노드 생성\n",
    "head = createNode(1)\n",
    "print('create node : %s' % head)\n",
    "\n",
    "# 노드 추가\n",
    "appendNode(head, 2)\n",
    "print('append node : %s' % head.nextnode)\n",
    "appendNode(head, 3)\n",
    "print('append node : %s' % head.nextnode.nextnode)\n",
    "\n",
    "# 노드 탐색\n",
    "print('index 1 node: %s' % getNodeAt(head, 1))"
   ]
  },
  {
   "cell_type": "code",
   "execution_count": null,
   "metadata": {
    "collapsed": true
   },
   "outputs": [],
   "source": []
  },
  {
   "cell_type": "code",
   "execution_count": null,
   "metadata": {
    "collapsed": true
   },
   "outputs": [],
   "source": []
  }
 ],
 "metadata": {
  "kernelspec": {
   "display_name": "Python 3",
   "language": "python",
   "name": "python3"
  },
  "language_info": {
   "codemirror_mode": {
    "name": "ipython",
    "version": 3
   },
   "file_extension": ".py",
   "mimetype": "text/x-python",
   "name": "python",
   "nbconvert_exporter": "python",
   "pygments_lexer": "ipython3",
   "version": "3.5.1"
  }
 },
 "nbformat": 4,
 "nbformat_minor": 0
}
