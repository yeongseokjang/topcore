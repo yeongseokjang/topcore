{
 "cells": [
  {
   "cell_type": "markdown",
   "metadata": {},
   "source": [
    "# 2장. 스택\n",
    "## 정의\n",
    "* 처음 들어간 데이터가 가장 마지막에 나오는 데이터 구조\n",
    "* FILO(First In Last Out) 또는 LIFO(Last In First Out) 이라고 부름\n",
    "* 데이터의 삽입과 삭제가 자료구조의 한쪽 끝에서만 이루어지는 것이 특징\n",
    "\n",
    "## 주요 기능\n",
    "### 삽입\n",
    "* 스택 위에 새로운 데이터를 쌓는 작업\n",
    "### 삭제\n",
    "* 스택의 최상위 데이터를 걷어내는 작업\n",
    "\n",
    "## 배열로 구현하는 스택\n",
    "### 장점\n",
    "* 구현이 간단하다\n",
    "### 단점\n",
    "* 동적으로 스택의 용량을 조절하기 어렵다."
   ]
  }
 ],
 "metadata": {
  "kernelspec": {
   "display_name": "Python 2",
   "language": "python",
   "name": "python2"
  },
  "language_info": {
   "codemirror_mode": {
    "name": "ipython",
    "version": 2
   },
   "file_extension": ".py",
   "mimetype": "text/x-python",
   "name": "python",
   "nbconvert_exporter": "python",
   "pygments_lexer": "ipython2",
   "version": "2.7.10"
  }
 },
 "nbformat": 4,
 "nbformat_minor": 0
}
