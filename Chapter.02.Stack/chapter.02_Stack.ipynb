{
 "cells": [
  {
   "cell_type": "markdown",
   "metadata": {},
   "source": [
    "# 2장. 스택\n",
    "## 정의\n",
    "* 처음 들어간 데이터가 가장 마지막에 나오는 데이터 구조\n",
    "* FILO(First In Last Out) 또는 LIFO(Last In First Out) 이라고 부름\n",
    "* 데이터의 삽입과 삭제가 자료구조의 한쪽 끝에서만 이루어지는 것이 특징\n",
    "\n",
    "## 주요 기능\n",
    "* 삽입 : 스택 위에 새로운 데이터를 쌓는 작업\n",
    "* 삭제 : 스택의 최상위 데이터를 걷어내는 작업\n",
    "\n",
    "## 배열로 구현하는 스택\n",
    "* 장점 : 구현이 간단하다\n",
    "* 단점 : 동적으로 스택의 용량을 조절하기 어렵다."
   ]
  },
  {
   "cell_type": "code",
   "execution_count": 12,
   "metadata": {
    "collapsed": false
   },
   "outputs": [
    {
     "name": "stdout",
     "output_type": "stream",
     "text": [
      "stack is full. capacity:5, top:5\n",
      "5\n",
      "4\n",
      "3\n",
      "2\n",
      "1\n",
      "stack is empty. capacity:5, top:-1\n",
      "None\n",
      "stack is empty. capacity:5, top:-1\n",
      "None\n"
     ]
    }
   ],
   "source": [
    "class ArrayStack:\n",
    "    def __init__(self, capacity):\n",
    "        self.capacity = capacity\n",
    "        self.top = -1\n",
    "        self.data = []\n",
    "        \n",
    "    def push(self, data):\n",
    "        self.top += 1\n",
    "        if self.top >= self.capacity:\n",
    "            print(\"stack is full. capacity:%d, top:%d\" % (self.capacity, self.top))\n",
    "            self.top -= 1\n",
    "            return\n",
    "        \n",
    "        self.data.append(data)\n",
    "        \n",
    "    def pop(self):\n",
    "        result = self.data[self.top]\n",
    "        self.top -= 1\n",
    "        \n",
    "        if self.top < -1:\n",
    "            self.top = -1\n",
    "            print(\"stack is empty. capacity:%d, top:%d\" % (self.capacity, self.top))\n",
    "            return\n",
    "        \n",
    "        return result\n",
    "    \n",
    "# test\n",
    "stack = ArrayStack(5)\n",
    "\n",
    "stack.push(1)\n",
    "stack.push(2)\n",
    "stack.push(3)\n",
    "stack.push(4)\n",
    "stack.push(5)\n",
    "stack.push(6) #overflow\n",
    "print(stack.pop())\n",
    "print(stack.pop())\n",
    "print(stack.pop())\n",
    "print(stack.pop())\n",
    "print(stack.pop())\n",
    "print(stack.pop())\n",
    "print(stack.pop())"
   ]
  },
  {
   "cell_type": "markdown",
   "metadata": {},
   "source": [
    "## 링크드 리스트로 구현하는 스택\n",
    "* 스택의 용량에 제한을 두지 않아도 된다.\n"
   ]
  },
  {
   "cell_type": "code",
   "execution_count": 16,
   "metadata": {
    "collapsed": false
   },
   "outputs": [
    {
     "name": "stdout",
     "output_type": "stream",
     "text": [
      "5\n",
      "4\n",
      "3\n",
      "2\n",
      "1\n",
      "stack is empty\n",
      "None\n",
      "stack is empty\n",
      "None\n"
     ]
    }
   ],
   "source": [
    "class Node:\n",
    "    def __init__(self):\n",
    "        self.data = 0\n",
    "        self.next_node = None\n",
    "        self.prev_node = None\n",
    "        \n",
    "class LinkedListStack:\n",
    "    def __init__(self):\n",
    "        self.head = None\n",
    "        self.tail = None\n",
    "    \n",
    "    def push(self, data):\n",
    "        new_node = Node()\n",
    "        new_node.data = data\n",
    "        \n",
    "        if self.head is None:\n",
    "            self.head = new_node\n",
    "            self.tail = new_node\n",
    "            return\n",
    "        tail_node = self.tail\n",
    "        new_node.prev_node = tail_node\n",
    "        tail_node.next_node = new_node\n",
    "        self.tail = new_node\n",
    "        \n",
    "    def pop(self):\n",
    "        if self.head is None:\n",
    "            print(\"stack is empty\")\n",
    "            return\n",
    "        \n",
    "        result = self.tail.data\n",
    "        prev_node = self.tail.prev_node\n",
    "        \n",
    "        if prev_node is None:\n",
    "            self.head = None\n",
    "            self.tail = None\n",
    "            return result\n",
    "        \n",
    "        prev_node.next_node = None\n",
    "        self.tail = prev_node\n",
    "        return result\n",
    "    \n",
    "    \n",
    "# test\n",
    "stack = LinkedListStack()\n",
    "stack.push(1)\n",
    "stack.push(2)\n",
    "stack.push(3)\n",
    "stack.push(4)\n",
    "stack.push(5)\n",
    "print(stack.pop())\n",
    "print(stack.pop())\n",
    "print(stack.pop())\n",
    "print(stack.pop())\n",
    "print(stack.pop())\n",
    "print(stack.pop())\n",
    "print(stack.pop())\n"
   ]
  },
  {
   "cell_type": "markdown",
   "metadata": {},
   "source": [
    "## 사칙 연산 계산기\n",
    "* 다음과 같은 사칙 연산으로 이루어진 수식을 풀 수 있으면 됨\n",
    "* 예) 1 + 3.334 / (4.28 * (100 - 7729))\n",
    "* 사칙 연산의 우선 순위에 따라 수식을 계산할 수 있어야 함\n",
    "\n",
    "### 전위 표기법\n",
    "* 연산자를 피연산자 앞에 위치\n",
    "* 예) + 3 4\n",
    "\n",
    "### 중위 표기법\n",
    "* 연산자가 피연산자 가운데에 위치\n",
    "* 사람이 일상적으로 사용하는 수식\n",
    "* 예) 1 + 2 / 33 - 9 * 13\n",
    "\n",
    "### 후위 표기법\n",
    "* 역 폴리쉬 기법이라고도 함\n",
    "* 연산자를 피연산자 뒤에 위치\n",
    "* 예) 1 2 33 / + 9 13 * -\n",
    "\n",
    "### 후위 표기식 계산 알고리즘\n",
    "1 3 2 * - 를 계산하는 알고리즘\n",
    "* 식의 왼쪽부터 요소를 읽어내면서 피연산자는 스택에 담는다.\n",
    "* 연산자가 나타난 경우 스택에서 피연산자 두 개를 꺼내 연산을 실행하고, 연산 결과를 다시 스택에 삽입한다."
   ]
  },
  {
   "cell_type": "code",
   "execution_count": null,
   "metadata": {
    "collapsed": false
   },
   "outputs": [],
   "source": []
  },
  {
   "cell_type": "markdown",
   "metadata": {},
   "source": [
    "### 중위 표기법에서 후위 표기법으로 변환 알고리즘\n",
    "1. 입력받은 중위 표기식에서 토큰을 읽는다.\n",
    "2. 토큰이 피연산자이면 토큰을 결과에 출력한다.\n",
    "3. 토큰이 연산자(괄호 포함)일 때, 이 토큰이 스택의 최상위 노드에 저장되어 있는 연산자보다 우선순위가 높으면(왼쪽 괄호는 우선순위가 가장 낮습니다.) 스택에 삽입하고, 그렇지 않다면 결과에 출력한다.\n",
    "4. 토큰이 오른쪽 괄호 ')'이면 최상위 노드에 왼쪽 괄호 '('가 올 때까지 스택에 제거 연산을 수행하고 제거한 노드에 담긴 연산자를 출력한다. 왼쪽 괄호를 만나면 제거만 하고 출력하지는 않는다.\n",
    "5. 중위 표기식에 더 읽을 것이 없다면 빠져나가고, 더 읽을 것이 있다면 1부터 다시 반복한다."
   ]
  },
  {
   "cell_type": "code",
   "execution_count": 20,
   "metadata": {
    "collapsed": false
   },
   "outputs": [
    {
     "name": "stdout",
     "output_type": "stream",
     "text": [
      "1 + 2\n",
      "1 + 2\n"
     ]
    }
   ],
   "source": [
    "class Calculator:\n",
    "    def __init__(self):\n",
    "        self.notation = []\n",
    "        self.operators = ['+', '-', '*', '/', '(', ')']\n",
    "        \n",
    "    def calculate(self, notation):\n",
    "        self.notation = self.postfix_notation(notation)\n",
    "        result = self.process_algorithm(self.notation)\n",
    "        return result\n",
    "\n",
    "    def postfix_notation(self, notation):\n",
    "        postfix = []\n",
    "        for token in notation:\n",
    "            if token not in self.operators:\n",
    "                postfix.append(token)\n",
    "            else:\n",
    "                op_in_stack = stack.top()"
   ]
  },
  {
   "cell_type": "code",
   "execution_count": 27,
   "metadata": {
    "collapsed": false
   },
   "outputs": [
    {
     "name": "stdout",
     "output_type": "stream",
     "text": [
      "1 + 2\n",
      "+\n",
      "1 + 2\n"
     ]
    }
   ],
   "source": [
    "a = raw_input()\n",
    "op = ['+', '-', '*', '/']\n",
    "for t in a:\n",
    "    if t in op:\n",
    "        print(t)\n",
    "print(a)\n",
    "\n",
    "\n",
    "\n"
   ]
  }
 ],
 "metadata": {
  "kernelspec": {
   "display_name": "Python 2",
   "language": "python",
   "name": "python2"
  },
  "language_info": {
   "codemirror_mode": {
    "name": "ipython",
    "version": 2
   },
   "file_extension": ".py",
   "mimetype": "text/x-python",
   "name": "python",
   "nbconvert_exporter": "python",
   "pygments_lexer": "ipython2",
   "version": "2.7.10"
  }
 },
 "nbformat": 4,
 "nbformat_minor": 0
}
