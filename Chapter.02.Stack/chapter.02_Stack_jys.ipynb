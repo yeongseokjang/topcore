{
 "cells": [
  {
   "cell_type": "markdown",
   "metadata": {},
   "source": [
    "# 2. 스택\n",
    "---\n",
    "## 2.1 개요\n",
    "- FIFO (First In First Out)\n",
    "\n",
    "## 2.2 주요 기능\n",
    "- 삽입 (Push)\n",
    "- 제거 (Pop)\n",
    "- 최상위노드반환 (Top)\n",
    "- 비어있는지 검사 (IsEmpty)\n",
    "- 가득 찼는지 검사 (IsFull)\n",
    "\n",
    "## 2.3 구현\n",
    "## 2.3.1 배열로 구현하는 스택\n",
    "- 장점 : 구현이 간단함\n",
    "- 단점 : 동적으로 스택의 용량을 조절하기 어려움"
   ]
  },
  {
   "cell_type": "code",
   "execution_count": 65,
   "metadata": {
    "collapsed": false
   },
   "outputs": [
    {
     "name": "stdout",
     "output_type": "stream",
     "text": [
      "capacity : 5, top : 0, size : 0\n",
      "capacity : 5, top : 0, size : 1\n",
      "top data : 5\n",
      "stack over flow!!\n",
      "isFull : True\n",
      "pop : 1\n",
      "pop : 2\n",
      "pop : 3\n",
      "pop : 4\n",
      "pop : 5\n",
      "stack is empty!!\n",
      "isEmpty : True\n"
     ]
    }
   ],
   "source": [
    "class ArrayStack:\n",
    "    def __init__(self, capacity):\n",
    "        self.capacity = capacity\n",
    "        self.top = 0\n",
    "        self.nodes = []\n",
    "    \n",
    "    def push(self, data):\n",
    "        if self.isFull():\n",
    "            raise Exception('stack over flow!!')\n",
    "        if len(self.nodes) > 0:\n",
    "            self.top += 1\n",
    "        self.nodes.append(data)\n",
    "            \n",
    "    def pop(self):\n",
    "        if self.isEmpty():\n",
    "            raise Exception('stack is empty!!')\n",
    "        result = self.nodes[self.top]\n",
    "        self.nodes.pop()\n",
    "        self.top -= 1\n",
    "        return result\n",
    "    \n",
    "    def isFull(self):\n",
    "        if self.top + 1 >= self.capacity:\n",
    "            return True\n",
    "        return False\n",
    "    \n",
    "    def isEmpty(self):\n",
    "        if len(self.nodes) <= 0:\n",
    "            return True\n",
    "        return False\n",
    "    \n",
    "    def getTop(self):\n",
    "        return self.nodes[self.top]\n",
    "        \n",
    "\n",
    "# 최초 스택 객체 생성 : 5, 0, 0\n",
    "array_stack = ArrayStack(5)\n",
    "print('capacity : %s, top : %s, size : %s'\n",
    "      % (array_stack.capacity, array_stack.top, len(array_stack.nodes)))\n",
    "\n",
    "# push 5 : 5, 0, 1\n",
    "array_stack.push(5)\n",
    "print('capacity : %s, top : %s, size : %s'\n",
    "      % (array_stack.capacity, array_stack.top, len(array_stack.nodes)))\n",
    "\n",
    "# top : 5\n",
    "print('top data : %s' % array_stack.getTop())\n",
    "\n",
    "# push 5개 : raise exception ('stack over flow!!')\n",
    "try:\n",
    "    array_stack.push(4)\n",
    "    array_stack.push(3)\n",
    "    array_stack.push(2)\n",
    "    array_stack.push(1)\n",
    "    array_stack.push(0)\n",
    "except Exception as e:\n",
    "    print(e)\n",
    "\n",
    "# isFull : True\n",
    "print('isFull : %s' % array_stack.isFull())\n",
    "\n",
    "# pop : 1, 2, 3, 4, 5\n",
    "print('pop : %s' % array_stack.pop())\n",
    "print('pop : %s' % array_stack.pop())\n",
    "print('pop : %s' % array_stack.pop())\n",
    "print('pop : %s' % array_stack.pop())\n",
    "print('pop : %s' % array_stack.pop())\n",
    "\n",
    "# pop : raise exception ('stack is empty!!')\n",
    "try:\n",
    "    array_stack.pop()\n",
    "except Exception as e:\n",
    "    print(e)\n",
    "    \n",
    "# isEmpty : True\n",
    "print('isEmpty : %s' % array_stack.isEmpty())"
   ]
  },
  {
   "cell_type": "markdown",
   "metadata": {},
   "source": [
    "## 2.3.2 링크드리스트로 구현하는 스택\n",
    "- 장점 : 용량에 재한을 둘 필요없음"
   ]
  },
  {
   "cell_type": "code",
   "execution_count": null,
   "metadata": {
    "collapsed": true
   },
   "outputs": [],
   "source": []
  }
 ],
 "metadata": {
  "kernelspec": {
   "display_name": "Python 3",
   "language": "python",
   "name": "python3"
  },
  "language_info": {
   "codemirror_mode": {
    "name": "ipython",
    "version": 3
   },
   "file_extension": ".py",
   "mimetype": "text/x-python",
   "name": "python",
   "nbconvert_exporter": "python",
   "pygments_lexer": "ipython3",
   "version": "3.5.1"
  }
 },
 "nbformat": 4,
 "nbformat_minor": 0
}
