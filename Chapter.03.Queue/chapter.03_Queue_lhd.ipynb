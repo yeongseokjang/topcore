{
 "cells": [
  {
   "cell_type": "markdown",
   "metadata": {},
   "source": [
    "# 3장 큐\n",
    "\n",
    "## 1. 큐\n",
    "* 선입 선출 구조\n",
    "* First In First Out (FIFO)\n",
    "* 대기 행렬이라고도 함\n",
    "* 큐의 가장 앞 요소를 Front\n",
    "* 큐의 가장 마지막 요소를 Rear\n",
    "\n",
    "## 2. 주요 기능\n",
    "* 삽입(Enqueue) : Rear에 노드를 추가해서 새로운 Rear를 만드는 연산\n",
    "* 삭제(Dequeue) : Front노드를 삭제하고 Front 노드 뒤에 있는 노드를 새로운 Front로 만드는 연산\n",
    "* \n",
    "\n",
    "## 3. 순환 큐\n",
    "* \n"
   ]
  }
 ],
 "metadata": {
  "kernelspec": {
   "display_name": "Python 2",
   "language": "python",
   "name": "python2"
  },
  "language_info": {
   "codemirror_mode": {
    "name": "ipython",
    "version": 2
   },
   "file_extension": ".py",
   "mimetype": "text/x-python",
   "name": "python",
   "nbconvert_exporter": "python",
   "pygments_lexer": "ipython2",
   "version": "2.7.10"
  }
 },
 "nbformat": 4,
 "nbformat_minor": 0
}
