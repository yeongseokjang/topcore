{
 "cells": [
  {
   "cell_type": "markdown",
   "metadata": {},
   "source": [
    "# 3장 큐\n",
    "\n",
    "## 1. 큐\n",
    "* 선입 선출 구조\n",
    "* First In First Out (FIFO)\n",
    "* 대기 행렬이라고도 함\n",
    "* 큐의 가장 앞 요소를 Front\n",
    "* 큐의 가장 마지막 요소를 Rear\n",
    "\n",
    "## 2. 주요 기능\n",
    "* 삽입(Enqueue) : Rear에 노드를 추가해서 새로운 Rear를 만드는 연산\n",
    "* 삭제(Dequeue) : Front노드를 삭제하고 Front 노드 뒤에 있는 노드를 새로운 Front로 만드는 연산\n",
    "* \n",
    "\n",
    "## 3. 순환 큐\n",
    "### 큐를 일반 배열로 구현 할 경우 문제점\n",
    "* Front 아이템 제거 후 나머지 아이템 정렬에 많은 비용 발생\n",
    "* dequeue 연산을 수행 할 수록 가용 용량이 줄어 드는 문제\n",
    "\n",
    "### 순환 큐\n",
    "* enqueue를 위한 인덱스는 front로 관리\n",
    "* dequeu를 위한 인덱스는 rear로 관리\n",
    "* enqueue 하면 rear 인덱스는 1 증가\n",
    "* rear 인덱스가 front 인덱스 보다 1작은 값을 갖는 경우 queue full\n",
    "* deque 하면 front 인덱스 1증가\n",
    "* front 인덱스가 rear index와 같으면 queue empty"
   ]
  },
  {
   "cell_type": "code",
   "execution_count": 59,
   "metadata": {
    "collapsed": false
   },
   "outputs": [
    {
     "name": "stdout",
     "output_type": "stream",
     "text": [
      "Items in Queue\n",
      "front: 0, rear: 5\n",
      "data: 2\n",
      "front: 1, rear: 5\n",
      "front: 1, rear: 1\n",
      "Queue is empty.\n",
      "front: 1, rear: 1\n"
     ]
    },
    {
     "ename": "AttributeError",
     "evalue": "'NoneType' object has no attribute 'data'",
     "output_type": "error",
     "traceback": [
      "\u001b[1;31m---------------------------------------------------------------------------\u001b[0m",
      "\u001b[1;31mAttributeError\u001b[0m                            Traceback (most recent call last)",
      "\u001b[1;32m<ipython-input-59-30f159dff7cc>\u001b[0m in \u001b[0;36m<module>\u001b[1;34m()\u001b[0m\n\u001b[0;32m     74\u001b[0m \u001b[0mnode\u001b[0m \u001b[1;33m=\u001b[0m \u001b[0mcq\u001b[0m\u001b[1;33m.\u001b[0m\u001b[0mdequeue\u001b[0m\u001b[1;33m(\u001b[0m\u001b[1;33m)\u001b[0m\u001b[1;33m\u001b[0m\u001b[0m\n\u001b[0;32m     75\u001b[0m \u001b[1;32mprint\u001b[0m\u001b[1;33m(\u001b[0m\u001b[1;34m\"front: %d, rear: %d\"\u001b[0m \u001b[1;33m%\u001b[0m \u001b[1;33m(\u001b[0m\u001b[0mcq\u001b[0m\u001b[1;33m.\u001b[0m\u001b[0mfront\u001b[0m\u001b[1;33m,\u001b[0m \u001b[0mcq\u001b[0m\u001b[1;33m.\u001b[0m\u001b[0mrear\u001b[0m\u001b[1;33m)\u001b[0m\u001b[1;33m)\u001b[0m\u001b[1;33m\u001b[0m\u001b[0m\n\u001b[1;32m---> 76\u001b[1;33m \u001b[1;32mprint\u001b[0m\u001b[1;33m(\u001b[0m\u001b[1;34m\"data: %d\"\u001b[0m \u001b[1;33m%\u001b[0m \u001b[0mnode\u001b[0m\u001b[1;33m.\u001b[0m\u001b[0mdata\u001b[0m\u001b[1;33m)\u001b[0m\u001b[1;33m\u001b[0m\u001b[0m\n\u001b[0m\u001b[0;32m     77\u001b[0m \"\"\"\n\u001b[0;32m     78\u001b[0m \u001b[0mcq\u001b[0m\u001b[1;33m.\u001b[0m\u001b[0menqueue\u001b[0m\u001b[1;33m(\u001b[0m\u001b[1;36m2\u001b[0m\u001b[1;33m)\u001b[0m\u001b[1;33m\u001b[0m\u001b[0m\n",
      "\u001b[1;31mAttributeError\u001b[0m: 'NoneType' object has no attribute 'data'"
     ]
    }
   ],
   "source": [
    "class Node:\n",
    "    def __init__(self):\n",
    "        self.data = 0\n",
    "        \n",
    "class CircularQueue:\n",
    "    def __init__(self):\n",
    "        self.front = -1\n",
    "        self.rear = -1\n",
    "        self.capacity = 0\n",
    "        self.node = []\n",
    "    \n",
    "    def set_capacity(self, capacity):\n",
    "        self.capacity = capacity\n",
    "        \n",
    "    def enqueue(self, data):\n",
    "        if self.is_full():\n",
    "            print(\"Queue is full.\")\n",
    "            return\n",
    "        \n",
    "        if self.capacity ==  self.rear:\n",
    "            self.rear = 0\n",
    "\n",
    "        node = Node()\n",
    "        node.data = data\n",
    "        self.node.insert(self.rear, node)\n",
    "        self.rear += 1\n",
    "        \n",
    "    def dequeue(self):\n",
    "        if self.is_empty():\n",
    "            print(\"Queue is empty.\")\n",
    "            return None\n",
    "        \n",
    "        if self.front == self.capacity:\n",
    "            self.front = 0\n",
    "\n",
    "        node = self.node[self.front]\n",
    "        self.front += 1\n",
    "        \n",
    "        return node\n",
    "    \n",
    "    def is_full(self):\n",
    "        if self.rear > self.front:\n",
    "            return (self.rear - self.front) == self.capacity\n",
    "        else:\n",
    "            return self.rear + 1 == self.front\n",
    "\n",
    "    def is_empty(self):\n",
    "        if self.rear == self.front:\n",
    "            return True\n",
    "        return False\n",
    "    \n",
    "    def print_queue(self):\n",
    "        print(\"Items in Queue\")\n",
    "        for node in self.node:\n",
    "            print(node.data)\n",
    "    \n",
    "# test\n",
    "cq = CircularQueue()\n",
    "cq.set_capacity(5)\n",
    "cq.print_queue()\n",
    "cq.enqueue(1)\n",
    "cq.enqueue(2)\n",
    "cq.enqueue(3)\n",
    "cq.enqueue(4)\n",
    "cq.enqueue(5)\n",
    "\n",
    "print(\"front: %d, rear: %d\" % (cq.front, cq.rear))\n",
    "node = cq.dequeue()\n",
    "print(\"data: %d\" % node.data)\n",
    "print(\"front: %d, rear: %d\" % (cq.front, cq.rear))\n",
    "cq.enqueue(6)\n",
    "print(\"front: %d, rear: %d\" % (cq.front, cq.rear))\n",
    "node = cq.dequeue()\n",
    "print(\"front: %d, rear: %d\" % (cq.front, cq.rear))\n",
    "print(\"data: %d\" % node.data)\n",
    "\"\"\"\n",
    "cq.enqueue(2)\n",
    "cq.enqueue(3)\n",
    "cq.enqueue(4)\n",
    "cq.enqueue(5)\n",
    "cq.enqueue(6)\n",
    "cq.enqueue(7)\n",
    "node = cq.dequeue()\n",
    "print(node.data)\n",
    "node = cq.dequeue()\n",
    "print(node.data)\n",
    "node = cq.dequeue()\n",
    "print(node.data)\n",
    "node = cq.dequeue()\n",
    "print(node.data)\n",
    "node = cq.dequeue()\n",
    "print(node.data)\n",
    "node = cq.dequeue()\n",
    "cq.enqueue(6)\n",
    "cq.enqueue(7)\n",
    "node = cq.dequeue()\n",
    "print(node.data)\n",
    "node = cq.dequeue()\n",
    "print(node.data)\n",
    "node = cq.dequeue()\n",
    "print(node.data)\n",
    "\"\"\""
   ]
  },
  {
   "cell_type": "code",
   "execution_count": 25,
   "metadata": {
    "collapsed": false
   },
   "outputs": [
    {
     "name": "stdout",
     "output_type": "stream",
     "text": [
      "here\n",
      "False\n",
      "False\n",
      "True\n"
     ]
    }
   ],
   "source": [
    "a = [1, 2, 3]\n",
    "len(a)\n",
    "\n",
    "a = False\n",
    "\n",
    "if not a:\n",
    "    print(\"here\")\n",
    "    \n",
    "a = 5\n",
    "b = 3\n",
    "\n",
    "print(a==b)\n",
    "print(a < b)\n",
    "print(a > b)"
   ]
  },
  {
   "cell_type": "code",
   "execution_count": null,
   "metadata": {
    "collapsed": true
   },
   "outputs": [],
   "source": [
    "\n"
   ]
  },
  {
   "cell_type": "code",
   "execution_count": null,
   "metadata": {
    "collapsed": true
   },
   "outputs": [],
   "source": []
  }
 ],
 "metadata": {
  "kernelspec": {
   "display_name": "Python 2",
   "language": "python",
   "name": "python2"
  },
  "language_info": {
   "codemirror_mode": {
    "name": "ipython",
    "version": 2
   },
   "file_extension": ".py",
   "mimetype": "text/x-python",
   "name": "python",
   "nbconvert_exporter": "python",
   "pygments_lexer": "ipython2",
   "version": "2.7.10"
  }
 },
 "nbformat": 4,
 "nbformat_minor": 0
}
