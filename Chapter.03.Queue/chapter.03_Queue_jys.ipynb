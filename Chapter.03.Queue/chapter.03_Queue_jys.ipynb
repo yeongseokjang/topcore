{
 "cells": [
  {
   "cell_type": "markdown",
   "metadata": {},
   "source": [
    "# 3. 큐\n",
    "---\n",
    "## 3.1 개요\n",
    "- FIFO (First In First Out)\n",
    "\n",
    "## 3.2 주요기능\n",
    "- 삽입과 제거\n",
    "- 큐의 가장 앞 요소 전단 (Front)\n",
    "- 가장 마지막 요소 후단 (Rear)\n",
    "- 삽입은 후단에서 수행 (Enqueue)\n",
    "- 제거는 전단에서 수행 (Dequeue)\n",
    "\n",
    "## 3.3 순환 큐\n",
    "- 배열을 사용한 큐를 작성하면 Dequeue 연산 후 Front 를 메꾸기 위해 나머지 인덱스들을 한칸씩 당겨야 하는 비용 발생\n",
    "- Front 와 Rear 를 가리키는 (Index) 변수를 만든다면 결국 사용할수록 가용용량이 줄어들게됨\n",
    "- 위 단점들을 해결하기 위해 순환큐를 사용\n",
    "- 가득차기전까지는 위 비용이 들지 않음\n",
    "- 실제 Rear 와 Front 가 연결된 것이 아니라 논리적 개념으로 구현한것임\n",
    "- 순환큐는 비어있을때와 가득찼을때 Front 와 Rear 를 가리키는 Index 가 같아지므로 두가지 상황 구분할 수 없음\n",
    "- 위 단점을 극복하기 위하여 배열의 마지막 공간을 빈공간으로 처리함\n",
    "- 비어있을때는 같은 Index를 가리키고 가득 찬 경우 Rear 가 Front 보다 하나 전 인덱스를 가리키게됨\n",
    "\n",
    "## 3.4 순환 큐 구현\n",
    "- 순환 큐의 선언\n",
    "- 순환 큐의 생성과 소멸\n",
    "- 삽입 (Enqueue) 연산\n",
    "- 제거 (Dequeue) 연산\n",
    "- 공백 상태 확인\n",
    "- 포화 상태 확인\n",
    "\n",
    "## 3.4 링크드 큐\n",
    "- 가득차는 경우가 없기 때문에 구현이 단순함\n",
    "- 큐의 크기가 예측 가능하고 고성능이 필요한 버퍼와 같은 사례에서는 링크드 큐보다 순환 큐가 더 적절함\n",
    "\n",
    "## 3.6 링크드 큐 구현\n",
    "- 링크드 큐와 노드의 선언\n",
    "- 링크드 큐의 생성과 소멸\n",
    "- 삽입 (Enqueue) 연산\n",
    "- 제거 (Dequeue) 연산"
   ]
  },
  {
   "cell_type": "code",
   "execution_count": null,
   "metadata": {
    "collapsed": true
   },
   "outputs": [],
   "source": []
  }
 ],
 "metadata": {
  "kernelspec": {
   "display_name": "Python 3",
   "language": "python",
   "name": "python3"
  },
  "language_info": {
   "codemirror_mode": {
    "name": "ipython",
    "version": 3
   },
   "file_extension": ".py",
   "mimetype": "text/x-python",
   "name": "python",
   "nbconvert_exporter": "python",
   "pygments_lexer": "ipython3",
   "version": "3.5.1"
  }
 },
 "nbformat": 4,
 "nbformat_minor": 0
}
