{
 "cells": [
  {
   "cell_type": "markdown",
   "metadata": {},
   "source": [
    "# 1. 트리 기초 다지기\n",
    "## 트리 기본 요소\n",
    "* 트리는 뿌리(Root), 가지(Branch), 잎(Leaf)로 구성\n",
    "* 뿌리(Root) : 트리 자료구조의 최상위 노드\n",
    "* 가지(Branch) : 뿌리(Root)와 잎(Leaf) 사이에 있는 모든 노드\n",
    "* 잎(Leaf) : 가지의 끝에 있는 노드 - 단말(Terminal)노드 라고도 함\n",
    "\n",
    "## 노드 간의 관계\n",
    "* 부모-자식 노드\n",
    "* 형제 노드\n",
    "\n",
    "## 트리의 속성\n",
    "* 경로(Path) : 한 노드에서 다른 노드까지 이르는 길 사이에 놓여있는 노드들의 순서\n",
    "* 길이(Length) : 출발 노드에서 목적지 노드까지 거쳐야 하는 노드의 개수\n",
    "* 깊이(Depth) : 루트 노드에서 해당 노드까지의 경로의 길이\n",
    "* 레벨(Level) : 깊이가 같은 노드의 집합\n",
    "* 높이(Height) : '가장 깊은 곳'에 있는 잎 노드까지의 깊이\n",
    "* 차수(Degree)\n",
    " * 노드의 차수 : 노드의 자식 노드 개수\n",
    " * 트리의 차수 : 트리 내에 있는 노드들 가운데 자식 노드가 가장 많은 노드의 차수\n",
    "\n",
    "## 트리 표현하기\n",
    "### 중첩된 괄호(Nested Parenthesis) 표현법\n",
    "* 같은 레벨의 노드들을 괄호로 같이 묶어 표현\n",
    "* 트리를 하나의 공식처럼 표현 가능\n",
    "* 읽기에 다소 어려움\n",
    "* 예)\n",
    "```\n",
    "(A(B(C(D(E)(F)))(G(H))(I(J(K))))\n",
    "```\n",
    "\n",
    "### 중첩된 집합(Nested Set) 표현법\n",
    "* 트리가 하위 트리의 집합이라는 관계를 잘 표현할 수 있음\n",
    "\n",
    "### 들여쓰기(Indentation) 표현법\n",
    "* 자료의 계층적인 특징을 잘 나타냄\n",
    "* 윈도우 탐색기의 폴더 트리가 들여쓰기로 표현한 트리의 예\n",
    "\n",
    "## 노드 표현하기\n",
    "### N-링크(N-Link) 표현법\n",
    "* 노드의 차수만큼 링크를 가지고 있고 각 링크가 각각 자식 노드를 가리키도록 노드를 구성하는 방법\n",
    "* 차수가 노드마다 달라지는 트리에 적용하기 어려움(각 노드의 차수에 맞게 링크를 동적으로 구성해줘야 함.- 복잡해짐)\n",
    "\n",
    "### 왼쪽 자식-오른쪽 형제(Left Child-Right Sibling) 표현법\n",
    "* N-링크 표현법의 문제점을 해결할 수 있는 방법\n",
    "* 왼쪽 자식과 오른쪽 형제에 대한 포인터를 갖고 있는 노드 구조\n",
    "\n",
    "## 트리 구현하기\n",
    "* 노드 선언\n",
    "* 노드 생성/소멸\n",
    "* 자식 노드 연결\n",
    "* 트리 출력"
   ]
  },
  {
   "cell_type": "code",
   "execution_count": 4,
   "metadata": {
    "collapsed": false
   },
   "outputs": [
    {
     "ename": "SyntaxError",
     "evalue": "invalid syntax (<ipython-input-4-5f0ce9acad83>, line 30)",
     "output_type": "error",
     "traceback": [
      "\u001b[0;36m  File \u001b[0;32m\"<ipython-input-4-5f0ce9acad83>\"\u001b[0;36m, line \u001b[0;32m30\u001b[0m\n\u001b[0;31m    print(\"  \", end = \" \")\u001b[0m\n\u001b[0m                    ^\u001b[0m\n\u001b[0;31mSyntaxError\u001b[0m\u001b[0;31m:\u001b[0m invalid syntax\n"
     ]
    }
   ],
   "source": [
    "class Node:\n",
    "    def __init__(self):\n",
    "        self.data = -1\n",
    "        self.child = None\n",
    "        self.sibling = None\n",
    "\n",
    "class LCRSTree:\n",
    "    def __init__(self):\n",
    "        pass\n",
    "    \n",
    "    def addChildNode(self, parent, data):\n",
    "        if parent is None:\n",
    "            return\n",
    "        \n",
    "        if parent.child is None:\n",
    "            new_node = Node()\n",
    "            new_node.data = data\n",
    "            parent.child = new_node\n",
    "        else:\n",
    "            child_node = parent.sibling\n",
    "            while child_node.sibling is not None:\n",
    "                child_node = child_node.sibling\n",
    "            \n",
    "            new_node = Node()\n",
    "            new_node.data = data\n",
    "            child_node.sibling = new_node\n",
    "\n",
    "    def printChildNode(node, depth):\n",
    "        for i in depth:\n",
    "            print(\"  \", end = \" \")\n",
    "        \n",
    "        print(\"%s\" % data)\n",
    "        \n",
    "        if node.child is not None:\n",
    "            printChildNode(node.child, depth+1)\n",
    "        \n",
    "        if node.sibling is not None:\n",
    "            printChildNode(node.sibling, depth)\n",
    "            \n",
    "parent = Node()\n",
    "\n",
    "tree = LCRSTree()\n",
    "tree.addChildNode(parent, 'A')\n",
    "tree.addChildNode(parent, 'B')\n",
    "tree.printChildNode(parent, 0)\n",
    "    "
   ]
  },
  {
   "cell_type": "markdown",
   "metadata": {},
   "source": [
    "# 2. 이진 트리\n",
    "* 모든 노드가 최대 2개의 자식을 가질 수 있는 트리\n",
    "\n",
    "## 트리의 형태\n",
    "### 포화 이진 트리\n",
    "* 잎 노드를 제외한 모든 노드가 자식을 둘 씩 가지고 있는 이진 트리\n",
    "* 잎 노드들이 같은 깊이에 존재한다는 것이 특징\n",
    "\n",
    "### 완전 이진 트리\n",
    "* 잎 노드들이 트리의 왼쪽부터 차곡차곡 채워진 것\n",
    "\n",
    "### 높이 균형 트리\n",
    "* 루트 노드를 기준으로 왼쪽 하위 트리와 오른쪽 하위 트리의 높이가 1이상 차이나지 않는 이진 트리\n",
    "\n",
    "### 완전 높이 균형 트리\n",
    "* 루트 노드를 기준으로 왼쪽 하위 트리와 오른쪽 하위 트리의 높이가 같은 이진 트리\n",
    "\n",
    "## 이진 트리 순회\n",
    "### 전위 순회\n",
    "* 루트 노드부터 시작해서 아래로 내려오면서\n",
    "* 왼쪽 하위 트리를 방문하고, 왼쪽 하위 트리의 방문이 끝나면\n",
    "* 오른쪽 하위 트리를 방문하는 방식\n",
    "\n",
    "### 중위 순회\n",
    "\n",
    "### 후위 순회\n"
   ]
  },
  {
   "cell_type": "code",
   "execution_count": null,
   "metadata": {
    "collapsed": true
   },
   "outputs": [],
   "source": []
  }
 ],
 "metadata": {
  "kernelspec": {
   "display_name": "Python 2",
   "language": "python",
   "name": "python2"
  },
  "language_info": {
   "codemirror_mode": {
    "name": "ipython",
    "version": 2
   },
   "file_extension": ".py",
   "mimetype": "text/x-python",
   "name": "python",
   "nbconvert_exporter": "python",
   "pygments_lexer": "ipython2",
   "version": "2.7.10"
  }
 },
 "nbformat": 4,
 "nbformat_minor": 0
}
