{
 "cells": [
  {
   "cell_type": "markdown",
   "metadata": {},
   "source": [
    "# 1. 트리 기초 다지기\n",
    "## 트리 기본 요소\n",
    "* 트리는 뿌리(Root), 가지(Branch), 잎(Leaf)로 구성\n",
    "* 뿌리(Root) : 트리 자료구조의 최상위 노드\n",
    "* 가지(Branch) : 뿌리(Root)와 잎(Leaf) 사이에 있는 모든 노드\n",
    "* 잎(Leaf) : 가지의 끝에 있는 노드 - 단말(Terminal)노드 라고도 함\n",
    "\n",
    "## 노드 간의 관계\n",
    "* 부모-자식 노드\n",
    "* 형제 노드\n",
    "\n",
    "## 트리의 속성\n",
    "* 경로(Path) : 한 노드에서 다른 노드까지 이르는 길 사이에 놓여있는 노드들의 순서\n",
    "* 길이(Length) : 출발 노드에서 목적지 노드까지 거쳐야 하는 노드의 개수\n",
    "* 깊이(Depth) : 루트 노드에서 해당 노드까지의 경로의 길이\n",
    "* 레벨(Level) : 깊이가 같은 노드의 집합\n",
    "* 높이(Height) : '가장 깊은 곳'에 있는 잎 노드까지의 깊이\n",
    "* 차수(Degree)\n",
    " * 노드의 차수 : 노드의 자식 노드 개수\n",
    " * 트리의 차수 : 트리 내에 있는 노드들 가운데 자식 노드가 가장 많은 노드의 차수\n",
    "\n",
    "## 트리 표현하기\n",
    "### 중첩된 괄호(Nested Parenthesis) 표현법\n",
    "* 같은 레벨의 노드들을 괄호로 같이 묶어 표현\n",
    "* 트리를 하나의 공식처럼 표현 가능\n",
    "* 읽기에 다소 어려움\n",
    "* 예)\n",
    "```\n",
    "(A(B(C(D(E)(F)))(G(H))(I(J(K))))\n",
    "```\n",
    "\n",
    "### 중첩된 집합(Nested Set) 표현법\n",
    "* 트리가 하위 트리의 집합이라는 관계를 잘 표현할 수 있음\n",
    "\n",
    "### 들여쓰기(Indentation) 표현법\n",
    "* 자료의 계층적인 특징을 잘 나타냄\n",
    "* 윈도우 탐색기의 폴더 트리가 들여쓰기로 표현한 트리의 예\n",
    "\n",
    "## 노드 표현하기\n",
    "### N-링크(N-Link) 표현법\n",
    "* 노드의 차수만큼 링크를 가지고 있고 각 링크가 각각 자식 노드를 가리키도록 노드를 구성하는 방법\n",
    "* 차수가 노드마다 달라지는 트리에 적용하기 어려움(각 노드의 차수에 맞게 링크를 동적으로 구성해줘야 함.- 복잡해짐)\n",
    "\n",
    "### 왼쪽 자식-오른쪽 형제(Left Child-Right Sibling) 표현법\n",
    "* N-링크 표현법의 문제점을 해결할 수 있는 방법\n",
    "* 왼쪽 자식과 오른쪽 형제에 대한 포인터를 갖고 있는 노드 구조\n",
    "\n",
    "## 트리 구현하기\n",
    "* 노드 선언\n",
    "* 노드 생성/소멸\n",
    "* 자식 노드 연결\n",
    "* 트리 출력\n",
    "\n",
    "# 2.이진 트리"
   ]
  },
  {
   "cell_type": "markdown",
   "metadata": {},
   "source": []
  }
 ],
 "metadata": {
  "kernelspec": {
   "display_name": "Python 2",
   "language": "python",
   "name": "python2"
  },
  "language_info": {
   "codemirror_mode": {
    "name": "ipython",
    "version": 2
   },
   "file_extension": ".py",
   "mimetype": "text/x-python",
   "name": "python",
   "nbconvert_exporter": "python",
   "pygments_lexer": "ipython2",
   "version": "2.7.10"
  }
 },
 "nbformat": 4,
 "nbformat_minor": 0
}
