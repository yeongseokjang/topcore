{
 "cells": [
  {
   "cell_type": "markdown",
   "metadata": {},
   "source": [
    "# 5. 정렬\n",
    "---\n",
    "## 5.1 정렬 알고리즘\n",
    "\n",
    "### 5.1.1 개요\n",
    "- 데이터를 가지런히 나열하는 그 자체가 목적이 아니라 찾고자 하는 데이터를 빠르고 쉽게 찾을 수 있게 하는 것이 목적\n",
    "\n",
    "## 5.2 버블 정렬 (Bubble Sort)\n",
    "\n",
    "### 5.2.1 개요\n",
    "- 데이터 집합을 순회하면서 집합 내의 이웃 요소들끼리의 교환을 통해 정렬을 수행\n",
    "\n",
    "### 5.2.2 성능\n",
    "> - **버블 정렬의 비교 횟수** = (n-1)+(n-2)+(n-3)+...+(n-(n-2))+(n-(n-1))\n",
    "> - (n-1)+(n-2)+(n-3)+...+(n-(n-2))+(n-(n-1)) = (n-1)+(n-2)+(n-3)+...+3+2+1 = (n-1)*(n/2)\n",
    ">\n",
    "> $$ \\frac{n(n-1)}{2} $$\n",
    "\n",
    "### 5.2.3 구현\n",
    "[visualize python]()"
   ]
  },
  {
   "cell_type": "code",
   "execution_count": 5,
   "metadata": {
    "collapsed": false
   },
   "outputs": [
    {
     "name": "stdout",
     "output_type": "stream",
     "text": [
      "[5, 1, 6, 4, 2, 3]\n",
      "j : 0\n",
      "j : 1\n",
      "j : 2\n",
      "j : 3\n",
      "[1, 2, 3, 4, 5, 6]\n",
      " \n",
      "[1, 2, 3, 4, 5, 6]\n",
      "j : 0\n",
      "[1, 2, 3, 4, 5, 6]\n"
     ]
    }
   ],
   "source": [
    "class BubbleSort:\n",
    "    def sort_asc(self, arr):\n",
    "        n = len(arr)\n",
    "        for j in range(n):\n",
    "            change = False\n",
    "            print('j : %d' % j)\n",
    "            for i in range(n-j-1):\n",
    "                if arr[i] > arr[i+1]:\n",
    "                    temp = arr[i]\n",
    "                    arr[i] = arr[i+1]\n",
    "                    arr[i+1] = temp\n",
    "                    change = True\n",
    "            if not change:\n",
    "                return\n",
    "\n",
    "target = [5, 1, 6, 4, 2, 3]\n",
    "print(target)\n",
    "bubbleSort = BubbleSort()\n",
    "bubbleSort.sort_asc(target)\n",
    "print(target)\n",
    "print(' ')\n",
    "\n",
    "target = [1, 2, 3, 4, 5, 6]\n",
    "print(target)\n",
    "bubbleSort = BubbleSort()\n",
    "bubbleSort.sort_asc(target)\n",
    "print(target)"
   ]
  },
  {
   "cell_type": "markdown",
   "metadata": {
    "collapsed": true
   },
   "source": [
    "## 5.3 삽입 정렬 (Insertion Sort)\n",
    "\n",
    "### 5.3.1 개요\n",
    "- 데이터 집합을 순회하면서 정렬이 필요한 요소를 뽑아내어 이를 다시 적당한 곳에 삽입해 나가는 알고리즘\n",
    "\n",
    "### 5.3.2 성능\n",
    "> - **삽입 정렬의 비교 횟수** = 1+2+...+(n-2)+(n-1)\n",
    ">\n",
    "> $$ \\frac{n(n-1)}{2} $$\n",
    "\n",
    "- 평균 비교회수는 버블정렬보다 적다.\n",
    "\n",
    "### 5.3.3 구현\n",
    "[visualize python]()"
   ]
  },
  {
   "cell_type": "code",
   "execution_count": 31,
   "metadata": {
    "collapsed": false
   },
   "outputs": [
    {
     "name": "stdout",
     "output_type": "stream",
     "text": [
      "[5, 1, 6, 4, 2, 3]\n",
      "[1, 2, 3, 4, 5, 6]\n"
     ]
    }
   ],
   "source": [
    "class InsertionSort:\n",
    "    def sort_asc(self, target):\n",
    "        for i in range(1, len(target)):\n",
    "            current = target[i]\n",
    "            for j in range(i-1, -1, -1):\n",
    "                if current < target[j]:\n",
    "                    temp = target[j]\n",
    "                    target[j] = current\n",
    "                    target[j+1] = temp\n",
    "            \n",
    "    \n",
    "target = [5, 1, 6, 4, 2, 3]\n",
    "print(target)\n",
    "sort = InsertionSort()\n",
    "sort.sort_asc(target)\n",
    "print(target)"
   ]
  },
  {
   "cell_type": "code",
   "execution_count": null,
   "metadata": {
    "collapsed": true
   },
   "outputs": [],
   "source": []
  }
 ],
 "metadata": {
  "kernelspec": {
   "display_name": "Python 3",
   "language": "python",
   "name": "python3"
  },
  "language_info": {
   "codemirror_mode": {
    "name": "ipython",
    "version": 3
   },
   "file_extension": ".py",
   "mimetype": "text/x-python",
   "name": "python",
   "nbconvert_exporter": "python",
   "pygments_lexer": "ipython3",
   "version": "3.5.1"
  }
 },
 "nbformat": 4,
 "nbformat_minor": 0
}
